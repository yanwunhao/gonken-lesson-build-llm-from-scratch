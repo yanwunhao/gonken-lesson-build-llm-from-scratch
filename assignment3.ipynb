{
 "cells": [
  {
   "cell_type": "markdown",
   "id": "bfeadba7",
   "metadata": {},
   "source": [
    "### 練習問題1"
   ]
  },
  {
   "cell_type": "code",
   "execution_count": null,
   "id": "ac8d2991",
   "metadata": {
    "vscode": {
     "languageId": "plaintext"
    }
   },
   "outputs": [],
   "source": []
  },
  {
   "cell_type": "markdown",
   "id": "9cc4808d",
   "metadata": {},
   "source": [
    "### 練習問題2"
   ]
  },
  {
   "cell_type": "code",
   "execution_count": null,
   "id": "16dea3c2",
   "metadata": {
    "vscode": {
     "languageId": "plaintext"
    }
   },
   "outputs": [],
   "source": []
  },
  {
   "cell_type": "markdown",
   "id": "731936dd",
   "metadata": {},
   "source": [
    "### 練習問題3"
   ]
  },
  {
   "cell_type": "code",
   "execution_count": null,
   "id": "8222c574",
   "metadata": {
    "vscode": {
     "languageId": "plaintext"
    }
   },
   "outputs": [],
   "source": []
  },
  {
   "cell_type": "markdown",
   "id": "78477100",
   "metadata": {},
   "source": [
    "### 練習問題4"
   ]
  },
  {
   "cell_type": "code",
   "execution_count": null,
   "id": "030d6792",
   "metadata": {
    "vscode": {
     "languageId": "plaintext"
    }
   },
   "outputs": [],
   "source": []
  },
  {
   "cell_type": "markdown",
   "id": "236c08e2",
   "metadata": {},
   "source": [
    "### 練習問題5"
   ]
  },
  {
   "cell_type": "code",
   "execution_count": null,
   "id": "5526af92",
   "metadata": {
    "vscode": {
     "languageId": "plaintext"
    }
   },
   "outputs": [],
   "source": []
  },
  {
   "cell_type": "markdown",
   "id": "72e88641",
   "metadata": {},
   "source": [
    "### 練習問題6"
   ]
  },
  {
   "cell_type": "code",
   "execution_count": null,
   "id": "f2f6bfc0",
   "metadata": {
    "vscode": {
     "languageId": "plaintext"
    }
   },
   "outputs": [],
   "source": []
  }
 ],
 "metadata": {
  "language_info": {
   "name": "python"
  }
 },
 "nbformat": 4,
 "nbformat_minor": 5
}
