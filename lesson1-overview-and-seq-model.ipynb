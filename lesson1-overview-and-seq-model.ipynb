{
 "cells": [
  {
   "cell_type": "markdown",
   "id": "2319c26f",
   "metadata": {},
   "source": [
    "# レッスン 01  LLMの研究概要とSeqモデル"
   ]
  }
 ],
 "metadata": {
  "language_info": {
   "name": "python"
  }
 },
 "nbformat": 4,
 "nbformat_minor": 5
}
