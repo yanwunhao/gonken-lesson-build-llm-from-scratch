{
 "cells": [
  {
   "cell_type": "markdown",
   "id": "cb0c03c4",
   "metadata": {},
   "source": [
    "### Q1：30日以内に13Bパラメータモデルを10Tトークンで訓練したい。MFUを0.45と仮定した場合、何台のH100 GPUが必要か？"
   ]
  },
  {
   "cell_type": "code",
   "execution_count": null,
   "id": "6d147a20",
   "metadata": {},
   "outputs": [
    {
     "name": "stdout",
     "output_type": "stream",
     "text": [
      "675.820393972098\n"
     ]
    }
   ],
   "source": []
  },
  {
   "cell_type": "markdown",
   "id": "2433f6e0",
   "metadata": {},
   "source": [
    "### Q2：GPT-2完全版（1.5Bパラメータ）をゼロからChinchilla最適比率で訓練したい。3日以内に完了させるには、MFU=0.48として何台のH100 GPUが必要か？"
   ]
  },
  {
   "cell_type": "code",
   "execution_count": null,
   "id": "3a0cd745",
   "metadata": {},
   "outputs": [
    {
     "name": "stdout",
     "output_type": "stream",
     "text": [
      "必要なH100台数: 2.2台\n"
     ]
    }
   ],
   "source": []
  }
 ],
 "metadata": {
  "kernelspec": {
   "display_name": "dl_env",
   "language": "python",
   "name": "python3"
  },
  "language_info": {
   "codemirror_mode": {
    "name": "ipython",
    "version": 3
   },
   "file_extension": ".py",
   "mimetype": "text/x-python",
   "name": "python",
   "nbconvert_exporter": "python",
   "pygments_lexer": "ipython3",
   "version": "3.10.17"
  }
 },
 "nbformat": 4,
 "nbformat_minor": 5
}
