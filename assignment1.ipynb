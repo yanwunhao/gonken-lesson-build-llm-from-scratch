{
 "cells": [
  {
   "cell_type": "markdown",
   "id": "cb0c03c4",
   "metadata": {},
   "source": [
    "### Q1：30日以内に13Bパラメータモデルを10Tトークンで訓練したい。MFUを0.45と仮定した場合、何台のH100 GPUが必要か？"
   ]
  },
  {
   "cell_type": "code",
   "execution_count": 1,
   "id": "6d147a20",
   "metadata": {},
   "outputs": [
    {
     "name": "stdout",
     "output_type": "stream",
     "text": [
      "675.820393972098\n"
     ]
    }
   ],
   "source": [
    "# 与えられた条件\n",
    "params = 13e9  # 13B parameters\n",
    "tokens = 10e12  # 10T tokens\n",
    "days = 30\n",
    "mfu = 0.45\n",
    "\n",
    "# 総FLOPs計算\n",
    "total_flops = 6 * params * tokens  # @inspect total_flops\n",
    "\n",
    "# H100の性能\n",
    "h100_flop_per_sec = 1979e12 / 2  # FP16/BF16\n",
    "\n",
    "# 1日あたりの秒数\n",
    "seconds_per_day = 60 * 60 * 24\n",
    "\n",
    "# 必要なGPU台数を計算\n",
    "# total_flops = h100_flop_per_sec * mfu * num_gpus * seconds_per_day * days\n",
    "num_gpus = total_flops / (h100_flop_per_sec * mfu * seconds_per_day * days)\n",
    "# @inspect num_gpus\n",
    "\n",
    "print(num_gpus)"
   ]
  },
  {
   "cell_type": "markdown",
   "id": "2433f6e0",
   "metadata": {},
   "source": [
    "### Q2：GPT-2完全版（1.5Bパラメータ）をゼロからChinchilla最適比率で訓練したい。3日以内に完了させるには、MFU=0.48として何台のH100 GPUが必要か？"
   ]
  },
  {
   "cell_type": "code",
   "execution_count": 5,
   "id": "3a0cd745",
   "metadata": {},
   "outputs": [
    {
     "name": "stdout",
     "output_type": "stream",
     "text": [
      "必要なH100台数: 2.2台\n"
     ]
    }
   ],
   "source": [
    "# GPT-2完全版のスペック\n",
    "params = 1.5e9  # 1.5B parameters (GPT-2 largest)\n",
    "\n",
    "# Chinchilla最適比率: D = 20N\n",
    "tokens = 20 * params  # 30B tokens\n",
    "\n",
    "# 訓練条件\n",
    "days = 3\n",
    "mfu = 0.48\n",
    "\n",
    "# 総FLOPs計算\n",
    "total_flops = 6 * params * tokens  # @inspect total_flops\n",
    "\n",
    "# H100の性能\n",
    "h100_flop_per_sec = 1979e12 / 2  # FP16/BF16\n",
    "\n",
    "# 1日あたりの秒数\n",
    "seconds_per_day = 60 * 60 * 24\n",
    "\n",
    "# 必要なGPU台数を計算\n",
    "num_gpus = total_flops / (h100_flop_per_sec * mfu * seconds_per_day * days)\n",
    "# @inspect num_gpus\n",
    "\n",
    "print(f\"必要なH100台数: {num_gpus:.1f}台\")"
   ]
  }
 ],
 "metadata": {
  "kernelspec": {
   "display_name": "dl_env",
   "language": "python",
   "name": "python3"
  },
  "language_info": {
   "codemirror_mode": {
    "name": "ipython",
    "version": 3
   },
   "file_extension": ".py",
   "mimetype": "text/x-python",
   "name": "python",
   "nbconvert_exporter": "python",
   "pygments_lexer": "ipython3",
   "version": "3.10.17"
  }
 },
 "nbformat": 4,
 "nbformat_minor": 5
}
