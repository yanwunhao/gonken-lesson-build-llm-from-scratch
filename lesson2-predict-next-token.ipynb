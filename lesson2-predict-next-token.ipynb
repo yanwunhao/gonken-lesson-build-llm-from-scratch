{
 "cells": [
  {
   "cell_type": "markdown",
   "id": "b1a3606d",
   "metadata": {},
   "source": [
    "# レッスン 01  Predict-Next-Token\n",
    "\n",
    "このチュートリアルでは、言語モデルの基本メカニズムである「次のトークン予測」（Predict-Next-Token）を深く理解していきます。ゼロから文字レベルの言語モデルを構築し、シェイクスピアの文体を学習させます。この実践プロジェクトを通じて、ニューラルネットワークがどのようにテキストパターンを学習し、特定のスタイルのテキストを生成するかを体験できます。"
   ]
  },
  {
   "cell_type": "markdown",
   "id": "89132eb3",
   "metadata": {},
   "source": [
    "## Section 1 シェイクスピアテキストデータセット\n",
    "言語モデルの構築を始める前に、まずトレーニングデータを準備する必要があります。ここでは古典的な「Tiny Shakespeare」データセット——シェイクスピアの全作品を含むテキストコレクションを使用します。\n",
    "\n",
    "### なぜこのデータセットを選ぶのか？\n",
    "\n",
    "* 独特なテキストスタイル：シェイクスピアの古英語の文体は特徴的で、モデルの学習効果を観察しやすい\n",
    "* 適度なデータ量：約1MBのテキストで、高速なトレーニングと実験に適している\n",
    "* 古典的な教育事例：言語モデル入門チュートリアルで広く使用されている\n",
    "\n",
    "### データセットのダウンロード"
   ]
  },
  {
   "cell_type": "code",
   "execution_count": null,
   "id": "36ac4b9f",
   "metadata": {
    "vscode": {
     "languageId": "plaintext"
    }
   },
   "outputs": [],
   "source": [
    "!wget https://raw.githubusercontent.com/karpathy/char-rnn/master/data/tinyshakespeare/input.txt"
   ]
  },
  {
   "cell_type": "markdown",
   "id": "a515c3b6",
   "metadata": {},
   "source": [
    "このコマンドでGitHubからinput.txtファイルを現在のディレクトリにダウンロードします。\n",
    "\n",
    "### テキストデータの読み込み\n",
    "\n",
    "このコードは、テキストファイルを読み込み、データセットの規模を確認する方法を示しています。"
   ]
  },
  {
   "cell_type": "code",
   "execution_count": null,
   "id": "51f7712d",
   "metadata": {
    "vscode": {
     "languageId": "plaintext"
    }
   },
   "outputs": [],
   "source": [
    "with open(\"input.txt\", \"r\", encoding=\"utf-8\") as f:\n",
    "    text = f.read()\n",
    "\n",
    "print(\"length of dataset in characters: \", len(text))"
   ]
  },
  {
   "cell_type": "markdown",
   "id": "715692bd",
   "metadata": {},
   "source": [
    "with open() ステートメント\n",
    "\n",
    "* with はPythonのコンテキストマネージャーで、ファイルを自動的に閉じ、リソースリークを防ぎます\n",
    "* エラーが発生しても、ファイルは正しく閉じられます\n",
    "* \"r\": 読み取りモード（read mode）"
   ]
  },
  {
   "cell_type": "markdown",
   "id": "f94b4f68",
   "metadata": {},
   "source": [
    "### テキストの冒頭を確認\n",
    "テキストの冒頭を確認任意のデータセットを処理する前に、実際の内容をプレビューすることは非常に重要なステップです。"
   ]
  },
  {
   "cell_type": "code",
   "execution_count": null,
   "id": "e4db7782",
   "metadata": {
    "vscode": {
     "languageId": "plaintext"
    }
   },
   "outputs": [],
   "source": [
    "print(text[:200])"
   ]
  },
  {
   "cell_type": "markdown",
   "id": "911a6fd6",
   "metadata": {},
   "source": [
    "## Section 2 Pytorchをインストールする\n",
    "\n",
    "PyTorchをインストールする前に、コンピュータのGPU構成を確認する必要があります。ニューラルネットワークのトレーニング時、GPUは計算速度を大幅に向上させます（通常CPUの100倍以上速い）。\n",
    "\n",
    "### ステップ1：GPUとCUDAバージョンの確認\n",
    "\n",
    "ターミナルまたはJupyter Notebookで以下のコマンドを実行します："
   ]
  },
  {
   "cell_type": "code",
   "execution_count": null,
   "id": "28d367ac",
   "metadata": {
    "vscode": {
     "languageId": "plaintext"
    }
   },
   "outputs": [],
   "source": [
    "!nvidia-smi"
   ]
  }
 ],
 "metadata": {
  "language_info": {
   "name": "python"
  }
 },
 "nbformat": 4,
 "nbformat_minor": 5
}
