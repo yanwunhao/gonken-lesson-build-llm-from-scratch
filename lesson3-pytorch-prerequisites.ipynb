{
 "cells": [
  {
   "cell_type": "markdown",
   "id": "ab91ab96",
   "metadata": {},
   "source": [
    "# レッスン 03  Pytorch Prerequisites\n",
    "\n",
    "Pytorchを学ぶには、まず基本的なスキルを習得する必要があります。すべての機械学習手法はデータから情報を抽出することに関わっています。そのため、まずデータの保存、操作、前処理など、データに関する実用的なスキルを学びます。\n",
    "\n",
    "機械学習では通常、大規模なデータセットを扱う必要があります。あるデータセットを表として捉えることができ、表の行はサンプルに対応し、列は属性に対応します。線形代数は表形式データを扱うための手法を提供してくれます。本書では詳細には立ち入らず、行列演算の基本原理とその実装に重点を置きます。\n",
    "\n",
    "深層学習は最適化に関する学習です。パラメータを持つモデルに対して、データに最もよく適合するモデルを見つけたいと考えます。アルゴリズムの各ステップにおいて、パラメータをどのように調整するかを決定するには、微積分の知識が少し必要です。本章ではこれらの知識を簡潔に紹介します。幸いなことに、autogradパッケージが自動的に微分を計算してくれます。本章ではこれについても紹介します。\n",
    "\n",
    "機械学習はまた、予測をどのように行うかに関わります。観測された情報が与えられたとき、ある未知の属性の取り得る値は何でしょうか?不確実な状況下で厳密な推論を行うには、確率の言語を借用する必要があります。\n",
    "\n",
    "最後に、公式ドキュメントには本レッスン以外の豊富な説明と例が提供されています。本章の最後では、公式ドキュメントで必要な情報を検索する方法を示します。\n",
    "\n",
    "## Section 1 データ操作\n",
    "\n",
    "様々なデータ操作を行うには、データを保存および操作する何らかの方法が必要です。通常、次の2つの重要なことを行う必要があります。\n",
    "(1)データの取得、(2)データをコンピュータに読み込んだ後の処理。データを保存する方法がなければ、データを取得することは意味がありません。\n",
    "\n",
    "まず、n次元配列、別名テンソル(tensor)を紹介します。PythonのNumPy計算パッケージを使用したことがある読者にとって、本節は馴染み深いものでしょう。どの深層学習フレームワークを使用するにしても、そのテンソルクラス(MXNetではndarray、PyTorchとTensorFlowではTensor)はNumpyのndarrayに似ています。しかし、深層学習フレームワークはNumpyのndarrayよりもいくつかの重要な機能を追加しています。第一に、GPUが計算の高速化をよくサポートしているのに対し、NumPyはCPU計算のみをサポートしています。第二に、テンソルクラスは自動微分をサポートしています。これらの機能により、テンソルクラスは深層学習により適したものとなっています。特に断りのない限り、本書で述べるテンソルはすべてテンソルクラスのインスタンスを指します。\n",
    "\n",
    "本節の目標は、レッスンを読み進める過程で使用する基本的な数値計算ツールを理解し、実行できるようにすることです。\n",
    "\n",
    "まず、torchをインポートします。PyTorchと呼ばれていますが、コード内ではpytorchではなくtorchを使用することに注意してください。"
   ]
  },
  {
   "cell_type": "code",
   "execution_count": 12,
   "id": "1e6d290a",
   "metadata": {},
   "outputs": [],
   "source": [
    "import torch"
   ]
  },
  {
   "cell_type": "markdown",
   "id": "69f6fcf6",
   "metadata": {},
   "source": [
    "テンソルは数値で構成される配列を表し、この配列は複数の次元を持つ可能性があります。1つの軸を持つテンソルは数学的にベクトル(vector)に対応します。2つの軸を持つテンソルは数学的に行列(matrix)に対応します。2つ以上の軸を持つテンソルには特別な数学的名称はありません。\n",
    "\n",
    "まず、arangeを使用して行ベクトルxを作成できます。この行ベクトルは0から始まる最初の12個の整数を含み、これらはデフォルトで整数として作成されます。浮動小数点数型として作成することも指定できます。テンソル内の各値はテンソルの要素(element)と呼ばれます。例えば、テンソルxには12個の要素があります。特に指定しない限り、新しいテンソルはメモリに保存され、CPUベースの計算を採用します。"
   ]
  },
  {
   "cell_type": "code",
   "execution_count": 13,
   "id": "f89d77d8",
   "metadata": {},
   "outputs": [
    {
     "data": {
      "text/plain": [
       "tensor([ 0,  1,  2,  3,  4,  5,  6,  7,  8,  9, 10, 11])"
      ]
     },
     "execution_count": 13,
     "metadata": {},
     "output_type": "execute_result"
    }
   ],
   "source": [
    "x = torch.arange(12)\n",
    "x"
   ]
  },
  {
   "cell_type": "markdown",
   "id": "6d006dbc",
   "metadata": {},
   "source": [
    "テンソルのshape属性を通じて、テンソルの形状(各軸に沿った長さ)にアクセスできます。"
   ]
  },
  {
   "cell_type": "code",
   "execution_count": 14,
   "id": "f2c22e06",
   "metadata": {},
   "outputs": [
    {
     "data": {
      "text/plain": [
       "torch.Size([12])"
      ]
     },
     "execution_count": 14,
     "metadata": {},
     "output_type": "execute_result"
    }
   ],
   "source": [
    "x.shape"
   ]
  },
  {
   "cell_type": "markdown",
   "id": "679194e2",
   "metadata": {},
   "source": [
    "テンソル内の要素の総数、つまり形状のすべての要素の積だけを知りたい場合は、そのサイズ(size)を確認できます。ここで扱っているのはベクトルなので、そのshapeとsizeは同じです。"
   ]
  },
  {
   "cell_type": "code",
   "execution_count": 15,
   "id": "4b97751a",
   "metadata": {},
   "outputs": [
    {
     "data": {
      "text/plain": [
       "12"
      ]
     },
     "execution_count": 15,
     "metadata": {},
     "output_type": "execute_result"
    }
   ],
   "source": [
    "x.numel()"
   ]
  },
  {
   "cell_type": "markdown",
   "id": "7110a28d",
   "metadata": {},
   "source": [
    "要素の数と要素の値を変えずにテンソルの形状を変更したい場合は、reshape関数を呼び出すことができます。例えば、テンソルxを形状(12,)の行ベクトルから形状(3,4)の行列に変換できます。この新しいテンソルは変換前と同じ値を含みますが、3行4列の行列として見なされます。重要な点として、テンソルの形状は変わりましたが、その要素の値は変わっていません。注意すべきは、テンソルの形状を変更しても、テンソルのサイズは変わらないということです。"
   ]
  },
  {
   "cell_type": "code",
   "execution_count": 17,
   "id": "ab2e3ee9",
   "metadata": {},
   "outputs": [
    {
     "data": {
      "text/plain": [
       "tensor([[ 0,  1,  2,  3],\n",
       "        [ 4,  5,  6,  7],\n",
       "        [ 8,  9, 10, 11]])"
      ]
     },
     "execution_count": 17,
     "metadata": {},
     "output_type": "execute_result"
    }
   ],
   "source": [
    "X = x.reshape(3, 4)\n",
    "X"
   ]
  },
  {
   "cell_type": "markdown",
   "id": "bc939e48",
   "metadata": {},
   "source": [
    "形状を変更するために各次元を手動で指定する必要はありません。つまり、目標の形状が(高さ、幅)である場合、幅を知った後、高さは自動的に計算されるため、自分で除算を行う必要はありません。上記の例では、3行の行列を取得するために、3行4列であることを手動で指定しました。幸いなことに、-1を使用してこの自動計算機能を呼び出すことができます。つまり、x.reshape(3,4)の代わりにx.reshape(-1,4)またはx.reshape(3,-1)を使用できます。"
   ]
  },
  {
   "cell_type": "markdown",
   "id": "8792b44d",
   "metadata": {},
   "source": [
    "## 練習問題1\n",
    "\n",
    "以下の要件を満たすコードを書いてください。\n",
    "\n",
    "torch.arange()を使用して、0から59までの60個の整数を含むテンソルdataを作成してください。\n",
    "\n",
    "このテンソルを以下の3つの異なる形状に変換し、それぞれ出力してください：\n",
    "\n",
    "- 形状(5, 12)の行列matrix_a（-1を使って行数を自動計算）\n",
    "- 形状(10, 6)の行列matrix_b（-1を使って列数を自動計算）\n",
    "- 形状(3, 4, 5)の3次元テンソルtensor_c（-1を使って最初の次元を自動計算）\n",
    "\n",
    "\n",
    "各変換後のテンソルのshapeを出力して確認してください。"
   ]
  },
  {
   "cell_type": "code",
   "execution_count": null,
   "id": "7567634d",
   "metadata": {},
   "outputs": [],
   "source": []
  },
  {
   "cell_type": "markdown",
   "id": "f3907c58",
   "metadata": {},
   "source": [
    "時には、全て0、全て1、その他の定数、または特定の分布からランダムにサンプリングされた数値を使用して行列を初期化したい場合があります。形状が(2,3,4)で、すべての要素が0に設定されたテンソルを作成できます。コードは次のとおりです。"
   ]
  },
  {
   "cell_type": "code",
   "execution_count": 20,
   "id": "e2dbbf62",
   "metadata": {},
   "outputs": [
    {
     "data": {
      "text/plain": [
       "tensor([[[0., 0., 0., 0.],\n",
       "         [0., 0., 0., 0.],\n",
       "         [0., 0., 0., 0.]],\n",
       "\n",
       "        [[0., 0., 0., 0.],\n",
       "         [0., 0., 0., 0.],\n",
       "         [0., 0., 0., 0.]]])"
      ]
     },
     "execution_count": 20,
     "metadata": {},
     "output_type": "execute_result"
    }
   ],
   "source": [
    "torch.zeros((2, 3, 4))"
   ]
  },
  {
   "cell_type": "code",
   "execution_count": 21,
   "id": "10762a22",
   "metadata": {},
   "outputs": [
    {
     "data": {
      "text/plain": [
       "tensor([[[1., 1., 1., 1.],\n",
       "         [1., 1., 1., 1.],\n",
       "         [1., 1., 1., 1.]],\n",
       "\n",
       "        [[1., 1., 1., 1.],\n",
       "         [1., 1., 1., 1.],\n",
       "         [1., 1., 1., 1.]]])"
      ]
     },
     "execution_count": 21,
     "metadata": {},
     "output_type": "execute_result"
    }
   ],
   "source": [
    "torch.ones((2, 3, 4))"
   ]
  },
  {
   "cell_type": "markdown",
   "id": "be8e0a98",
   "metadata": {},
   "source": [
    "時には、特定の確率分布からランダムにサンプリングすることで、テンソルの各要素の値を取得したい場合があります。例えば、ニューラルネットワークのパラメータとして配列を構築する際、通常はパラメータの値をランダムに初期化します。以下のコードは、形状が(3,4)のテンソルを作成します。その中の各要素は、平均0、標準偏差1の標準ガウス分布(正規分布)からランダムにサンプリングされます。"
   ]
  },
  {
   "cell_type": "code",
   "execution_count": 22,
   "id": "c42b7946",
   "metadata": {},
   "outputs": [
    {
     "data": {
      "text/plain": [
       "tensor([[ 1.2633, -1.1481,  1.3903, -1.1236],\n",
       "        [-0.7373, -0.4752, -1.3118,  2.2922],\n",
       "        [ 0.7514, -1.5083,  1.3942, -0.6517]])"
      ]
     },
     "execution_count": 22,
     "metadata": {},
     "output_type": "execute_result"
    }
   ],
   "source": [
    "torch.randn(3, 4)"
   ]
  },
  {
   "cell_type": "markdown",
   "id": "b8863d34",
   "metadata": {},
   "source": [
    "数値を含むPythonのリスト（またはネストされたリスト）を提供することで、必要なテンソルの各要素に確定した値を割り当てることもできます。ここで、最も外側のリストは軸0に対応し、内側のリストは軸1に対応します。"
   ]
  },
  {
   "cell_type": "code",
   "execution_count": 23,
   "id": "a397d04d",
   "metadata": {},
   "outputs": [
    {
     "data": {
      "text/plain": [
       "tensor([[2, 1, 4, 3],\n",
       "        [1, 2, 3, 4],\n",
       "        [4, 3, 2, 1]])"
      ]
     },
     "execution_count": 23,
     "metadata": {},
     "output_type": "execute_result"
    }
   ],
   "source": [
    "torch.tensor([[2, 1, 4, 3], [1, 2, 3, 4], [4, 3, 2, 1]])"
   ]
  },
  {
   "cell_type": "markdown",
   "id": "952371a0",
   "metadata": {},
   "source": [
    "私たちの関心はデータの読み取りと書き込みに限定されません。これらのデータに対して数学演算を実行したいと考えており、その中で最も単純で有用な操作は要素ごと(elementwise)の演算です。これらは標準的なスカラー演算子を配列の各要素に適用します。2つの配列を入力とする関数の場合、要素ごとの演算は2つの配列内の各ペアの位置に対応する要素に二項演算子を適用します。スカラーからスカラーへの任意の関数に基づいて、要素ごとの関数を作成できます。\n",
    "同じ形状を持つ任意のテンソルに対して、一般的な標準算術演算子（+、-、*、/、**）はすべて要素ごとの演算に昇格できます。同じ形状の任意の2つのテンソルに対して要素ごとの操作を呼び出すことができます。以下の例では、カンマを使用して5つの要素を持つタプルを表し、各要素は要素ごとの操作の結果です。(**演算子は累乗演算です)"
   ]
  },
  {
   "cell_type": "code",
   "execution_count": 24,
   "id": "b24247c8",
   "metadata": {},
   "outputs": [
    {
     "data": {
      "text/plain": [
       "(tensor([ 3.,  4.,  6., 10.]),\n",
       " tensor([-1.,  0.,  2.,  6.]),\n",
       " tensor([ 2.,  4.,  8., 16.]),\n",
       " tensor([0.5000, 1.0000, 2.0000, 4.0000]),\n",
       " tensor([ 1.,  4., 16., 64.]))"
      ]
     },
     "execution_count": 24,
     "metadata": {},
     "output_type": "execute_result"
    }
   ],
   "source": [
    "x = torch.tensor([1.0, 2, 4, 8])\n",
    "y = torch.tensor([2, 2, 2, 2])\n",
    "x + y, x - y, x * y, x / y, x**y"
   ]
  },
  {
   "cell_type": "markdown",
   "id": "9a37a860",
   "metadata": {},
   "source": [
    "\"要素ごと\"の方式では、累乗のような単項演算子を含む、より多くの計算を適用できます。"
   ]
  },
  {
   "cell_type": "code",
   "execution_count": 25,
   "id": "1e5a6831",
   "metadata": {},
   "outputs": [
    {
     "data": {
      "text/plain": [
       "tensor([2.7183e+00, 7.3891e+00, 5.4598e+01, 2.9810e+03])"
      ]
     },
     "execution_count": 25,
     "metadata": {},
     "output_type": "execute_result"
    }
   ],
   "source": [
    "torch.exp(x)"
   ]
  },
  {
   "cell_type": "markdown",
   "id": "8a6a7980",
   "metadata": {},
   "source": [
    "## 練習問題2\n",
    "\n",
    "以下の要件を満たすコードを書いてください。\n",
    "\n",
    "- 形状が(3, 3)で、1から9までの整数を含むテンソルaを作成してください。\n",
    "``\n",
    "[[1, 2, 3],\n",
    "[4, 5, 6],\n",
    "[7, 8, 9]]\n",
    "``\n",
    "- 形状が(3, 3)で、すべての要素が2であるテンソルbを作成してください。\n",
    "``\n",
    "[[2, 2, 2],\n",
    "[2, 2, 2],\n",
    "[2, 2, 2]]\n",
    "``\n",
    "- 以下の3つの演算を実行し、結果を出力してください：\n",
    "1. aとbの足し算\n",
    "2. aとbの掛け算（要素ごと）\n",
    "3. aの各要素を2乗したもの（for文不使用）"
   ]
  },
  {
   "cell_type": "code",
   "execution_count": null,
   "id": "d4dba329",
   "metadata": {},
   "outputs": [],
   "source": []
  },
  {
   "cell_type": "markdown",
   "id": "aea28c4c",
   "metadata": {},
   "source": [
    "要素ごとの計算以外にも、ベクトルの内積や行列の乗算を含む線形代数演算を実行できます。線形代数の重要な内容についてはSection3で説明します。\n",
    "\n",
    "また、複数のテンソルを連結(concatenate)することもできます。それらを端から端まで積み重ねて、より大きなテンソルを形成します。テンソルのリストを提供し、どの軸に沿って連結するかを指定するだけです。"
   ]
  },
  {
   "cell_type": "code",
   "execution_count": 26,
   "id": "8ad3082e",
   "metadata": {},
   "outputs": [
    {
     "data": {
      "text/plain": [
       "(tensor([[ 0.,  1.,  2.,  3.],\n",
       "         [ 4.,  5.,  6.,  7.],\n",
       "         [ 8.,  9., 10., 11.],\n",
       "         [ 2.,  1.,  4.,  3.],\n",
       "         [ 1.,  2.,  3.,  4.],\n",
       "         [ 4.,  3.,  2.,  1.]]),\n",
       " tensor([[ 0.,  1.,  2.,  3.,  2.,  1.,  4.,  3.],\n",
       "         [ 4.,  5.,  6.,  7.,  1.,  2.,  3.,  4.],\n",
       "         [ 8.,  9., 10., 11.,  4.,  3.,  2.,  1.]]))"
      ]
     },
     "execution_count": 26,
     "metadata": {},
     "output_type": "execute_result"
    }
   ],
   "source": [
    "X = torch.arange(12, dtype=torch.float32).reshape((3, 4))\n",
    "Y = torch.tensor([[2.0, 1, 4, 3], [1, 2, 3, 4], [4, 3, 2, 1]])\n",
    "torch.cat((X, Y), dim=0), torch.cat((X, Y), dim=1)"
   ]
  },
  {
   "cell_type": "markdown",
   "id": "34459ef2",
   "metadata": {},
   "source": [
    "時には、論理演算子を通じて二値テンソルを構築したい場合があります。X == Yを例にすると、各位置について、XとYがその位置で等しい場合、新しいテンソルの対応する項の値は1になります。これは、論理文X == Yがその位置で真であることを意味し、そうでない場合はその位置は0になります。"
   ]
  },
  {
   "cell_type": "code",
   "execution_count": 27,
   "id": "efc4fb20",
   "metadata": {},
   "outputs": [
    {
     "data": {
      "text/plain": [
       "tensor([[False,  True, False,  True],\n",
       "        [False, False, False, False],\n",
       "        [False, False, False, False]])"
      ]
     },
     "execution_count": 27,
     "metadata": {},
     "output_type": "execute_result"
    }
   ],
   "source": [
    "X == Y"
   ]
  },
  {
   "cell_type": "markdown",
   "id": "d08f01ba",
   "metadata": {},
   "source": [
    "テンソル内のすべての要素を合計すると、単一要素のテンソルが生成されます。"
   ]
  },
  {
   "cell_type": "code",
   "execution_count": 28,
   "id": "cdc8e68c",
   "metadata": {},
   "outputs": [
    {
     "data": {
      "text/plain": [
       "tensor(66.)"
      ]
     },
     "execution_count": 28,
     "metadata": {},
     "output_type": "execute_result"
    }
   ],
   "source": [
    "X.sum()"
   ]
  },
  {
   "cell_type": "markdown",
   "id": "ffa49691",
   "metadata": {},
   "source": [
    "## 練習問題3\n",
    "\n",
    "以下の要件を満たすコードを書いてください\n",
    "\n",
    "以下の操作を実行し、結果を出力してください：\n",
    "\n",
    "- aとbを軸0（縦方向）に沿って連結したテンソルc\n",
    "- aとbを軸1（横方向）に沿って連結したテンソルd\n",
    "- aの要素が2より大きいかどうかを判定する二値テンソルe\n",
    "- テンソルaのすべての要素の合計"
   ]
  },
  {
   "cell_type": "code",
   "execution_count": null,
   "id": "2e047c2b",
   "metadata": {},
   "outputs": [],
   "source": [
    "a = torch.tensor([[1, 2], [3, 4]])\n",
    "b = torch.tensor([[5, 6], [7, 8]])"
   ]
  },
  {
   "cell_type": "code",
   "execution_count": null,
   "id": "cb4a4335",
   "metadata": {},
   "outputs": [],
   "source": []
  }
 ],
 "metadata": {
  "kernelspec": {
   "display_name": "dl_env",
   "language": "python",
   "name": "python3"
  },
  "language_info": {
   "codemirror_mode": {
    "name": "ipython",
    "version": 3
   },
   "file_extension": ".py",
   "mimetype": "text/x-python",
   "name": "python",
   "nbconvert_exporter": "python",
   "pygments_lexer": "ipython3",
   "version": "3.10.15"
  }
 },
 "nbformat": 4,
 "nbformat_minor": 5
}
