{
 "cells": [
  {
   "cell_type": "markdown",
   "id": "ab91ab96",
   "metadata": {},
   "source": [
    "# レッスン 03  Pytorch Prerequisites\n",
    "\n",
    "Pytorchを学ぶには、まず基本的なスキルを習得する必要があります。すべての機械学習手法はデータから情報を抽出することに関わっています。そのため、まずデータの保存、操作、前処理など、データに関する実用的なスキルを学びます。\n",
    "\n",
    "最後に、公式ドキュメントには本レッスン以外の豊富な説明と例が提供されています。本レッスンの最後では、公式ドキュメントで必要な情報を検索する方法を示します。\n",
    "\n",
    "## Section 1 データ操作\n",
    "\n",
    "様々なデータ操作を行うには、データを保存および操作する何らかの方法が必要です。\n",
    "\n",
    "まず、n次元配列、別名テンソル(tensor)を紹介します。PythonのNumPy計算パッケージを使用したことがある読者にとって、本節は馴染み深いものでしょう。どの深層学習フレームワークを使用するにしても、そのテンソルクラス(MXNetではndarray、PyTorchとTensorFlowではTensor)はNumpyのndarrayに似ています。しかし、深層学習フレームワークはNumpyのndarrayよりもいくつかの重要な機能を追加しています。第一に、GPUが計算の高速化をよくサポートしているのに対し、NumPyはCPU計算のみをサポートしています。第二に、テンソルクラスは自動微分をサポートしています。これらの機能により、テンソルクラスは深層学習により適したものとなっています。特に断りのない限り、本レッスンで述べるテンソルはすべてテンソルクラスのインスタンスを指します。\n",
    "\n",
    "本レッスンの目標は、レッスンを読み進める過程で使用する基本的な数値計算ツールを理解し、実行できるようにすることです。\n",
    "\n",
    "まず、torchをインポートします。PyTorchと呼ばれていますが、コード内ではpytorchではなくtorchを使用することに注意してください。"
   ]
  },
  {
   "cell_type": "code",
   "execution_count": 3,
   "id": "1e6d290a",
   "metadata": {},
   "outputs": [],
   "source": [
    "import torch"
   ]
  },
  {
   "cell_type": "markdown",
   "id": "69f6fcf6",
   "metadata": {},
   "source": [
    "### はじめに\n",
    "\n",
    "テンソルは数値で構成される配列を表し、この配列は複数の次元を持つ可能性があります。1つの軸を持つテンソルは数学的にベクトル(vector)に対応します。2つの軸を持つテンソルは数学的に行列(matrix)に対応します。2つ以上の軸を持つテンソルには特別な数学的名称はありません。\n",
    "\n",
    "まず、arangeを使用して行ベクトルxを作成できます。この行ベクトルは0から始まる最初の12個の整数を含み、これらはデフォルトで整数として作成されます。浮動小数点数型として作成することも指定できます。テンソル内の各値はテンソルの要素(element)と呼ばれます。例えば、テンソルxには12個の要素があります。特に指定しない限り、新しいテンソルはメモリに保存され、CPUベースの計算を採用します。"
   ]
  },
  {
   "cell_type": "code",
   "execution_count": 4,
   "id": "f89d77d8",
   "metadata": {},
   "outputs": [
    {
     "data": {
      "text/plain": [
       "tensor([ 0,  1,  2,  3,  4,  5,  6,  7,  8,  9, 10, 11])"
      ]
     },
     "execution_count": 4,
     "metadata": {},
     "output_type": "execute_result"
    }
   ],
   "source": [
    "x = torch.arange(12)\n",
    "x"
   ]
  },
  {
   "cell_type": "markdown",
   "id": "6d006dbc",
   "metadata": {},
   "source": [
    "テンソルのshape属性を通じて、テンソルの形状(各軸に沿った長さ)にアクセスできます。"
   ]
  },
  {
   "cell_type": "code",
   "execution_count": 5,
   "id": "f2c22e06",
   "metadata": {},
   "outputs": [
    {
     "data": {
      "text/plain": [
       "torch.Size([12])"
      ]
     },
     "execution_count": 5,
     "metadata": {},
     "output_type": "execute_result"
    }
   ],
   "source": [
    "x.shape"
   ]
  },
  {
   "cell_type": "markdown",
   "id": "679194e2",
   "metadata": {},
   "source": [
    "テンソル内の要素の総数、つまり形状のすべての要素の積だけを知りたい場合は、そのサイズ(size)を確認できます。ここで扱っているのはベクトルなので、そのshapeとsizeは同じです。"
   ]
  },
  {
   "cell_type": "code",
   "execution_count": 6,
   "id": "4b97751a",
   "metadata": {},
   "outputs": [
    {
     "data": {
      "text/plain": [
       "12"
      ]
     },
     "execution_count": 6,
     "metadata": {},
     "output_type": "execute_result"
    }
   ],
   "source": [
    "x.numel()"
   ]
  },
  {
   "cell_type": "markdown",
   "id": "7110a28d",
   "metadata": {},
   "source": [
    "要素の数と要素の値を変えずにテンソルの形状を変更したい場合は、reshape関数を呼び出すことができます。例えば、テンソルxを形状(12,)の行ベクトルから形状(3,4)の行列に変換できます。この新しいテンソルは変換前と同じ値を含みますが、3行4列の行列として見なされます。重要な点として、テンソルの形状は変わりましたが、その要素の値は変わっていません。注意すべきは、テンソルの形状を変更しても、テンソルのサイズは変わらないということです。"
   ]
  },
  {
   "cell_type": "code",
   "execution_count": 7,
   "id": "ab2e3ee9",
   "metadata": {},
   "outputs": [
    {
     "data": {
      "text/plain": [
       "tensor([[ 0,  1,  2,  3],\n",
       "        [ 4,  5,  6,  7],\n",
       "        [ 8,  9, 10, 11]])"
      ]
     },
     "execution_count": 7,
     "metadata": {},
     "output_type": "execute_result"
    }
   ],
   "source": [
    "X = x.reshape(3, 4)\n",
    "X"
   ]
  },
  {
   "cell_type": "markdown",
   "id": "bc939e48",
   "metadata": {},
   "source": [
    "形状を変更するために各次元を手動で指定する必要はありません。つまり、目標の形状が(高さ、幅)である場合、幅を知った後、高さは自動的に計算されるため、自分で除算を行う必要はありません。上記の例では、3行の行列を取得するために、3行4列であることを手動で指定しました。幸いなことに、-1を使用してこの自動計算機能を呼び出すことができます。つまり、x.reshape(3,4)の代わりにx.reshape(-1,4)またはx.reshape(3,-1)を使用できます。"
   ]
  },
  {
   "cell_type": "markdown",
   "id": "8792b44d",
   "metadata": {},
   "source": [
    "### 練習問題1\n",
    "\n",
    "以下の要件を満たすコードを書いてください。\n",
    "\n",
    "torch.arange()を使用して、0から59までの60個の整数を含むテンソルdataを作成してください。\n",
    "\n",
    "このテンソルを以下の3つの異なる形状に変換し、それぞれ出力してください：\n",
    "\n",
    "- 形状(5, 12)の行列matrix_a（-1を使って行数を自動計算）\n",
    "- 形状(10, 6)の行列matrix_b（-1を使って列数を自動計算）\n",
    "- 形状(3, 4, 5)の3次元テンソルtensor_c（-1を使って最初の次元を自動計算）\n",
    "\n",
    "\n",
    "各変換後のテンソルのshapeを出力して確認してください。"
   ]
  },
  {
   "cell_type": "code",
   "execution_count": null,
   "id": "7567634d",
   "metadata": {},
   "outputs": [],
   "source": []
  },
  {
   "cell_type": "markdown",
   "id": "f3907c58",
   "metadata": {},
   "source": [
    "時には、全て0、全て1、その他の定数、または特定の分布からランダムにサンプリングされた数値を使用して行列を初期化したい場合があります。形状が(2,3,4)で、すべての要素が0に設定されたテンソルを作成できます。コードは次のとおりです。"
   ]
  },
  {
   "cell_type": "code",
   "execution_count": 8,
   "id": "e2dbbf62",
   "metadata": {},
   "outputs": [
    {
     "data": {
      "text/plain": [
       "tensor([[[0., 0., 0., 0.],\n",
       "         [0., 0., 0., 0.],\n",
       "         [0., 0., 0., 0.]],\n",
       "\n",
       "        [[0., 0., 0., 0.],\n",
       "         [0., 0., 0., 0.],\n",
       "         [0., 0., 0., 0.]]])"
      ]
     },
     "execution_count": 8,
     "metadata": {},
     "output_type": "execute_result"
    }
   ],
   "source": [
    "torch.zeros((2, 3, 4))"
   ]
  },
  {
   "cell_type": "code",
   "execution_count": 9,
   "id": "10762a22",
   "metadata": {},
   "outputs": [
    {
     "data": {
      "text/plain": [
       "tensor([[[1., 1., 1., 1.],\n",
       "         [1., 1., 1., 1.],\n",
       "         [1., 1., 1., 1.]],\n",
       "\n",
       "        [[1., 1., 1., 1.],\n",
       "         [1., 1., 1., 1.],\n",
       "         [1., 1., 1., 1.]]])"
      ]
     },
     "execution_count": 9,
     "metadata": {},
     "output_type": "execute_result"
    }
   ],
   "source": [
    "torch.ones((2, 3, 4))"
   ]
  },
  {
   "cell_type": "markdown",
   "id": "be8e0a98",
   "metadata": {},
   "source": [
    "時には、特定の確率分布からランダムにサンプリングすることで、テンソルの各要素の値を取得したい場合があります。例えば、ニューラルネットワークのパラメータとして配列を構築する際、通常はパラメータの値をランダムに初期化します。以下のコードは、形状が(3,4)のテンソルを作成します。その中の各要素は、平均0、標準偏差1の標準ガウス分布(正規分布)からランダムにサンプリングされます。"
   ]
  },
  {
   "cell_type": "code",
   "execution_count": 10,
   "id": "c42b7946",
   "metadata": {},
   "outputs": [
    {
     "data": {
      "text/plain": [
       "tensor([[-1.1513, -0.0466, -0.3376, -1.4045],\n",
       "        [-0.3713,  0.4517,  0.4350,  1.2027],\n",
       "        [ 0.4861, -0.9455, -0.6271,  0.0790]])"
      ]
     },
     "execution_count": 10,
     "metadata": {},
     "output_type": "execute_result"
    }
   ],
   "source": [
    "torch.randn(3, 4)"
   ]
  },
  {
   "cell_type": "markdown",
   "id": "b8863d34",
   "metadata": {},
   "source": [
    "数値を含むPythonのリスト（またはネストされたリスト）を提供することで、必要なテンソルの各要素に確定した値を割り当てることもできます。ここで、最も外側のリストは軸0に対応し、内側のリストは軸1に対応します。"
   ]
  },
  {
   "cell_type": "code",
   "execution_count": 11,
   "id": "a397d04d",
   "metadata": {},
   "outputs": [
    {
     "data": {
      "text/plain": [
       "tensor([[2, 1, 4, 3],\n",
       "        [1, 2, 3, 4],\n",
       "        [4, 3, 2, 1]])"
      ]
     },
     "execution_count": 11,
     "metadata": {},
     "output_type": "execute_result"
    }
   ],
   "source": [
    "torch.tensor([[2, 1, 4, 3], [1, 2, 3, 4], [4, 3, 2, 1]])"
   ]
  },
  {
   "cell_type": "markdown",
   "id": "952371a0",
   "metadata": {},
   "source": [
    "### 演算子\n",
    "\n",
    "私たちの関心はデータの読み取りと書き込みに限定されません。これらのデータに対して数学演算を実行したいと考えており、その中で最も単純で有用な操作は要素ごと(elementwise)の演算です。これらは標準的なスカラー演算子を配列の各要素に適用します。2つの配列を入力とする関数の場合、要素ごとの演算は2つの配列内の各ペアの位置に対応する要素に二項演算子を適用します。スカラーからスカラーへの任意の関数に基づいて、要素ごとの関数を作成できます。\n",
    "同じ形状を持つ任意のテンソルに対して、一般的な標準算術演算子（+、-、*、/、**）はすべて要素ごとの演算に昇格できます。同じ形状の任意の2つのテンソルに対して要素ごとの操作を呼び出すことができます。以下の例では、カンマを使用して5つの要素を持つタプルを表し、各要素は要素ごとの操作の結果です。(**演算子は累乗演算です)"
   ]
  },
  {
   "cell_type": "code",
   "execution_count": 12,
   "id": "b24247c8",
   "metadata": {},
   "outputs": [
    {
     "data": {
      "text/plain": [
       "(tensor([ 3.,  4.,  6., 10.]),\n",
       " tensor([-1.,  0.,  2.,  6.]),\n",
       " tensor([ 2.,  4.,  8., 16.]),\n",
       " tensor([0.5000, 1.0000, 2.0000, 4.0000]),\n",
       " tensor([ 1.,  4., 16., 64.]))"
      ]
     },
     "execution_count": 12,
     "metadata": {},
     "output_type": "execute_result"
    }
   ],
   "source": [
    "x = torch.tensor([1.0, 2, 4, 8])\n",
    "y = torch.tensor([2, 2, 2, 2])\n",
    "x + y, x - y, x * y, x / y, x**y"
   ]
  },
  {
   "cell_type": "markdown",
   "id": "9a37a860",
   "metadata": {},
   "source": [
    "\"要素ごと\"の方式では、累乗のような単項演算子を含む、より多くの計算を適用できます。"
   ]
  },
  {
   "cell_type": "code",
   "execution_count": 13,
   "id": "1e5a6831",
   "metadata": {},
   "outputs": [
    {
     "data": {
      "text/plain": [
       "tensor([2.7183e+00, 7.3891e+00, 5.4598e+01, 2.9810e+03])"
      ]
     },
     "execution_count": 13,
     "metadata": {},
     "output_type": "execute_result"
    }
   ],
   "source": [
    "torch.exp(x)"
   ]
  },
  {
   "cell_type": "markdown",
   "id": "8a6a7980",
   "metadata": {},
   "source": [
    "### 練習問題2\n",
    "\n",
    "以下の要件を満たすコードを書いてください。\n",
    "\n",
    "- 形状が(3, 3)で、1から9までの整数を含むテンソルaを作成してください。\n",
    "``\n",
    "[[1, 2, 3],\n",
    "[4, 5, 6],\n",
    "[7, 8, 9]]\n",
    "``\n",
    "- 形状が(3, 3)で、すべての要素が2であるテンソルbを作成してください。\n",
    "``\n",
    "[[2, 2, 2],\n",
    "[2, 2, 2],\n",
    "[2, 2, 2]]\n",
    "``\n",
    "- 以下の3つの演算を実行し、結果を出力してください：\n",
    "1. aとbの足し算\n",
    "2. aとbの掛け算（要素ごと）\n",
    "3. aの各要素を2乗したもの（for文不使用）"
   ]
  },
  {
   "cell_type": "code",
   "execution_count": null,
   "id": "d4dba329",
   "metadata": {},
   "outputs": [],
   "source": []
  },
  {
   "cell_type": "markdown",
   "id": "aea28c4c",
   "metadata": {},
   "source": [
    "要素ごとの計算以外にも、ベクトルの内積や行列の乗算を含む線形代数演算を実行できます。\n",
    "\n",
    "また、複数のテンソルを連結(concatenate)することもできます。それらを端から端まで積み重ねて、より大きなテンソルを形成します。テンソルのリストを提供し、どの軸に沿って連結するかを指定するだけです。"
   ]
  },
  {
   "cell_type": "code",
   "execution_count": 14,
   "id": "8ad3082e",
   "metadata": {},
   "outputs": [
    {
     "data": {
      "text/plain": [
       "(tensor([[ 0.,  1.,  2.,  3.],\n",
       "         [ 4.,  5.,  6.,  7.],\n",
       "         [ 8.,  9., 10., 11.],\n",
       "         [ 2.,  1.,  4.,  3.],\n",
       "         [ 1.,  2.,  3.,  4.],\n",
       "         [ 4.,  3.,  2.,  1.]]),\n",
       " tensor([[ 0.,  1.,  2.,  3.,  2.,  1.,  4.,  3.],\n",
       "         [ 4.,  5.,  6.,  7.,  1.,  2.,  3.,  4.],\n",
       "         [ 8.,  9., 10., 11.,  4.,  3.,  2.,  1.]]))"
      ]
     },
     "execution_count": 14,
     "metadata": {},
     "output_type": "execute_result"
    }
   ],
   "source": [
    "X = torch.arange(12, dtype=torch.float32).reshape((3, 4))\n",
    "Y = torch.tensor([[2.0, 1, 4, 3], [1, 2, 3, 4], [4, 3, 2, 1]])\n",
    "torch.cat((X, Y), dim=0), torch.cat((X, Y), dim=1)"
   ]
  },
  {
   "cell_type": "markdown",
   "id": "34459ef2",
   "metadata": {},
   "source": [
    "時には、論理演算子を通じて二値テンソルを構築したい場合があります。X == Yを例にすると、各位置について、XとYがその位置で等しい場合、新しいテンソルの対応する項の値は1になります。これは、論理文X == Yがその位置で真であることを意味し、そうでない場合はその位置は0になります。"
   ]
  },
  {
   "cell_type": "code",
   "execution_count": 15,
   "id": "efc4fb20",
   "metadata": {},
   "outputs": [
    {
     "data": {
      "text/plain": [
       "tensor([[False,  True, False,  True],\n",
       "        [False, False, False, False],\n",
       "        [False, False, False, False]])"
      ]
     },
     "execution_count": 15,
     "metadata": {},
     "output_type": "execute_result"
    }
   ],
   "source": [
    "X == Y"
   ]
  },
  {
   "cell_type": "markdown",
   "id": "d08f01ba",
   "metadata": {},
   "source": [
    "テンソル内のすべての要素を合計すると、単一要素のテンソルが生成されます。"
   ]
  },
  {
   "cell_type": "code",
   "execution_count": 16,
   "id": "cdc8e68c",
   "metadata": {},
   "outputs": [
    {
     "data": {
      "text/plain": [
       "tensor(66.)"
      ]
     },
     "execution_count": 16,
     "metadata": {},
     "output_type": "execute_result"
    }
   ],
   "source": [
    "X.sum()"
   ]
  },
  {
   "cell_type": "markdown",
   "id": "ffa49691",
   "metadata": {},
   "source": [
    "### 練習問題3\n",
    "\n",
    "以下の要件を満たすコードを書いてください\n",
    "\n",
    "以下の操作を実行し、結果を出力してください：\n",
    "\n",
    "- aとbを軸0（縦方向）に沿って連結したテンソルc\n",
    "- aとbを軸1（横方向）に沿って連結したテンソルd\n",
    "- aの要素が2より大きいかどうかを判定する二値テンソルe\n",
    "- テンソルaのすべての要素の合計"
   ]
  },
  {
   "cell_type": "code",
   "execution_count": 17,
   "id": "2e047c2b",
   "metadata": {},
   "outputs": [],
   "source": [
    "a = torch.tensor([[1, 2], [3, 4]])\n",
    "b = torch.tensor([[5, 6], [7, 8]])"
   ]
  },
  {
   "cell_type": "markdown",
   "id": "d8104e89",
   "metadata": {},
   "source": [
    "### ブロードキャスト\n",
    "\n",
    "上記の部分では、同じ形状の2つのテンソルに対して要素ごとの操作を実行する方法を見てきました。場合によっては、形状が異なっていても、ブロードキャスト機構(broadcasting mechanism)を呼び出すことで要素ごとの操作を実行できます。この機構は次のように機能します。\n",
    "\n",
    "1. 要素を適切に複製して1つまたは2つの配列を拡張し、変換後に2つのテンソルが同じ形状を持つようにします。\n",
    "2. 生成された配列に対して要素ごとの操作を実行します。\n",
    "\n",
    "ほとんどの場合、配列内の長さが1の軸に沿ってブロードキャストを行います。次の例のように："
   ]
  },
  {
   "cell_type": "code",
   "execution_count": 18,
   "id": "a565d34a",
   "metadata": {},
   "outputs": [
    {
     "data": {
      "text/plain": [
       "(tensor([[0],\n",
       "         [1],\n",
       "         [2]]),\n",
       " tensor([[0, 1]]))"
      ]
     },
     "execution_count": 18,
     "metadata": {},
     "output_type": "execute_result"
    }
   ],
   "source": [
    "a = torch.arange(3).reshape((3, 1))\n",
    "b = torch.arange(2).reshape((1, 2))\n",
    "a, b"
   ]
  },
  {
   "cell_type": "markdown",
   "id": "aea43e8f",
   "metadata": {},
   "source": [
    "aとbはそれぞれ3×1と1×2の行列であるため、それらを足し合わせようとすると形状が一致しません。2つの行列をより大きな行列にブロードキャストします。次のように：行列aは列を複製し、行列bは行を複製してから、要素ごとに加算します。"
   ]
  },
  {
   "cell_type": "code",
   "execution_count": 20,
   "id": "063ba323",
   "metadata": {},
   "outputs": [
    {
     "data": {
      "text/plain": [
       "tensor([[0, 1],\n",
       "        [1, 2],\n",
       "        [2, 3]])"
      ]
     },
     "execution_count": 20,
     "metadata": {},
     "output_type": "execute_result"
    }
   ],
   "source": [
    "a + b"
   ]
  },
  {
   "cell_type": "markdown",
   "id": "f63ba69d",
   "metadata": {},
   "source": [
    "### インデックスとスライス\n",
    "他のPython配列と同様に、テンソル内の要素はインデックスを通じてアクセスできます。他のPython配列と同じように、最初の要素のインデックスは0で、最後の要素のインデックスは-1です。範囲を指定して、最初の要素と最後の要素の前までを含めることができます。\n",
    "\n",
    "以下のように、[-1]を使用して最後の要素を選択でき、[1:3]を使用して2番目と3番目の要素を選択できます。"
   ]
  },
  {
   "cell_type": "code",
   "execution_count": 21,
   "id": "6ac49645",
   "metadata": {},
   "outputs": [
    {
     "data": {
      "text/plain": [
       "(tensor([ 8.,  9., 10., 11.]),\n",
       " tensor([[ 4.,  5.,  6.,  7.],\n",
       "         [ 8.,  9., 10., 11.]]))"
      ]
     },
     "execution_count": 21,
     "metadata": {},
     "output_type": "execute_result"
    }
   ],
   "source": [
    "X[-1], X[1:3]"
   ]
  },
  {
   "cell_type": "markdown",
   "id": "431498b6",
   "metadata": {},
   "source": [
    "読み取り以外にも、インデックスを指定して行列に要素を書き込むこともできます。"
   ]
  },
  {
   "cell_type": "code",
   "execution_count": 22,
   "id": "cd8c8235",
   "metadata": {},
   "outputs": [
    {
     "data": {
      "text/plain": [
       "tensor([[ 0.,  1.,  2.,  3.],\n",
       "        [ 4.,  5.,  9.,  7.],\n",
       "        [ 8.,  9., 10., 11.]])"
      ]
     },
     "execution_count": 22,
     "metadata": {},
     "output_type": "execute_result"
    }
   ],
   "source": [
    "X[1, 2] = 9\n",
    "X"
   ]
  },
  {
   "cell_type": "markdown",
   "id": "79e1731b",
   "metadata": {},
   "source": [
    "複数の要素に同じ値を割り当てたい場合、すべての要素をインデックスで指定してから値を割り当てるだけです。例えば、`[0:2, :]`は第1行と第2行にアクセスし、ここで\":\"は軸1(列)に沿ったすべての要素を表します。ここでは行列のインデックスについて議論していますが、これはベクトルや2次元以上のテンソルにも適用されます。"
   ]
  },
  {
   "cell_type": "code",
   "execution_count": 23,
   "id": "7545cff0",
   "metadata": {},
   "outputs": [
    {
     "data": {
      "text/plain": [
       "tensor([[12., 12., 12., 12.],\n",
       "        [12., 12., 12., 12.],\n",
       "        [ 8.,  9., 10., 11.]])"
      ]
     },
     "execution_count": 23,
     "metadata": {},
     "output_type": "execute_result"
    }
   ],
   "source": [
    "X[0:2, :] = 12\n",
    "X"
   ]
  },
  {
   "cell_type": "markdown",
   "id": "5ce3647a",
   "metadata": {},
   "source": [
    "### 練習問題4\n",
    "\n",
    "以下の要件を満たすコードを書いてください。\n",
    "\n",
    "1. 形状が(4, 3)のテンソル`matrix`を作成してください。値は0から11までの整数とします。\n",
    "\n",
    "2. 形状が(1, 3)のテンソル`row_vec`を作成してください。値は`[10, 20, 30]`とします。\n",
    "\n",
    "3. ブロードキャストを使用して、`matrix`と`row_vec`を足し合わせた結果を`result`に保存してください。\n",
    "\n",
    "4. `result`の2行目と3行目（インデックス1と2）のすべての列を、値100で上書きしてください。\n",
    "\n",
    "5. 以下を確認してください：\n",
    "   - 元の`matrix`のメモリアドレス（`id(matrix)`）\n",
    "   - ステップ3の後の`result`のメモリアドレス\n",
    "   - これらは同じですか？異なりますか？その理由を説明してください。\n",
    "\n",
    "**ヒント：**\n",
    "- `torch.arange(12).reshape(4, 3)`で`matrix`を作成できます\n",
    "- スライス`[1:3, :]`を使用します\n",
    "- `id()`関数でメモリアドレスを確認します\n",
    "\n",
    "**期待される動作：**\n",
    "- `result`の形状は(4, 3)\n",
    "- 2行目と3行目はすべて100になる\n",
    "- `matrix`と`result`のメモリアドレスは異なる"
   ]
  },
  {
   "cell_type": "code",
   "execution_count": null,
   "id": "b01888bc",
   "metadata": {},
   "outputs": [],
   "source": []
  },
  {
   "cell_type": "markdown",
   "id": "09491296",
   "metadata": {},
   "source": [
    "### メモリの節約\n",
    "\n",
    "一部の操作を実行すると、新しい結果のためにメモリが割り当てられる可能性があります。例えば、`Y = X + Y`を使用すると、`Y`が指すテンソルへの参照を解除し、代わりに新しく割り当てられたメモリ内のテンソルを指すようになります。\n",
    "\n",
    "以下の例では、Pythonの`id()`関数を使ってこれを実証します。これはメモリ内で参照されているオブジェクトの正確なアドレスを提供します。`Y = Y + X`を実行した後、`id(Y)`が別の場所を指していることがわかります。これは、Pythonがまず`Y + X`を計算し、結果のために新しいメモリを割り当て、その後`Y`をメモリ内のこの新しい場所を指すようにするためです。"
   ]
  },
  {
   "cell_type": "code",
   "execution_count": 24,
   "id": "58e068e9",
   "metadata": {},
   "outputs": [
    {
     "data": {
      "text/plain": [
       "False"
      ]
     },
     "execution_count": 24,
     "metadata": {},
     "output_type": "execute_result"
    }
   ],
   "source": [
    "before = id(Y)\n",
    "Y = Y + X\n",
    "id(Y) == before"
   ]
  },
  {
   "cell_type": "markdown",
   "id": "e40c8b38",
   "metadata": {},
   "source": [
    "これは望ましくない場合があり、その理由は2つあります。\n",
    "\n",
    "1. 第一に、常に不必要にメモリを割り当てたくはありません。機械学習では、数億個のパラメータを持つ可能性があり、1秒以内にすべてのパラメータを何度も更新します。通常の場合、これらの更新をインプレース(in-place)で実行したいと考えます。\n",
    "\n",
    "2. インプレースで更新しない場合、他の参照は依然として古いメモリ位置を指しているため、コードの一部が意図せず古いパラメータを参照してしまう可能性があります。\n",
    "\n",
    "幸いなことに、インプレース操作の実行は非常に簡単です。スライス表記を使用して、操作の結果を事前に割り当てられた配列に代入できます。例えば`Y[:] = <expression>`のようにします。これを説明するために、まず別の`Y`と同じ形状を持つ新しい行列`Z`を作成し、`zeros_like`を使用して全て0のブロックを割り当てます。"
   ]
  },
  {
   "cell_type": "code",
   "execution_count": 25,
   "id": "fc0d667c",
   "metadata": {},
   "outputs": [
    {
     "name": "stdout",
     "output_type": "stream",
     "text": [
      "id(Z): 4668209440\n",
      "id(Z): 4668209440\n"
     ]
    }
   ],
   "source": [
    "Z = torch.zeros_like(Y)\n",
    "print(\"id(Z):\", id(Z))\n",
    "Z[:] = X + Y\n",
    "print(\"id(Z):\", id(Z))"
   ]
  },
  {
   "cell_type": "markdown",
   "id": "05e5e605",
   "metadata": {},
   "source": [
    "後続の計算で`X`を再利用しない場合、`X[:] = X + Y`または`X += Y`を使用して操作のメモリオーバーヘッドを削減することもできます。"
   ]
  },
  {
   "cell_type": "code",
   "execution_count": 26,
   "id": "06f7582d",
   "metadata": {},
   "outputs": [
    {
     "data": {
      "text/plain": [
       "True"
      ]
     },
     "execution_count": 26,
     "metadata": {},
     "output_type": "execute_result"
    }
   ],
   "source": [
    "before = id(X)\n",
    "X += Y\n",
    "id(X) == before"
   ]
  },
  {
   "cell_type": "markdown",
   "id": "c5a1273b",
   "metadata": {},
   "source": [
    "### 練習問題5\n",
    "\n",
    "以下の要件を満たすコードを書いてください。\n",
    "\n",
    "1. 形状が(3, 3)で、すべて1のテンソル`X`を作成してください。\n",
    "\n",
    "2. `X`のメモリアドレスを記録してください（`id_before = id(X)`）。\n",
    "\n",
    "3. 形状が(3, 3)で、すべて2のテンソル`Y`を作成してください。\n",
    "\n",
    "4. 以下の3つの異なる方法で`X`と`Y`を足し算し、それぞれの後に`X`のメモリアドレスを確認してください：\n",
    "   - 方法A：`X = X + Y`\n",
    "   - 方法B：`X[:] = X + Y`（新しい`X`を作成してから実行）\n",
    "   - 方法C：`X += Y`（新しい`X`を作成してから実行）\n",
    "\n",
    "5. 各方法について、メモリアドレスが変わったかどうかを出力してください。\n",
    "\n",
    "**期待される結果：**\n",
    "- 方法A：メモリアドレスが変わる\n",
    "- 方法B：メモリアドレスが変わらない\n",
    "- 方法C：メモリアドレスが変わらない"
   ]
  },
  {
   "cell_type": "code",
   "execution_count": null,
   "id": "39ab78e1",
   "metadata": {},
   "outputs": [],
   "source": []
  },
  {
   "cell_type": "markdown",
   "id": "dc717dd1",
   "metadata": {},
   "source": [
    "### 他のPythonオブジェクトへの変換\n",
    "\n",
    "深層学習フレームワークで定義されたテンソルをNumPyテンソル(`ndarray`)に変換するのは簡単で、その逆も同様に簡単です。torchテンソルとnumpy配列は基礎となるメモリを共有するため、インプレース操作で一方のテンソルを変更すると、もう一方のテンソルも同時に変更されます。"
   ]
  },
  {
   "cell_type": "code",
   "execution_count": 27,
   "id": "5821b216",
   "metadata": {},
   "outputs": [
    {
     "data": {
      "text/plain": [
       "(numpy.ndarray, torch.Tensor)"
      ]
     },
     "execution_count": 27,
     "metadata": {},
     "output_type": "execute_result"
    }
   ],
   "source": [
    "A = X.numpy()\n",
    "B = torch.tensor(A)\n",
    "type(A), type(B)"
   ]
  },
  {
   "cell_type": "markdown",
   "id": "019eeb6c",
   "metadata": {},
   "source": [
    "サイズが1のテンソルをPythonスカラーに変換するには、`item`関数またはPythonの組み込み関数を呼び出すことができます。"
   ]
  },
  {
   "cell_type": "code",
   "execution_count": 28,
   "id": "b4df71ba",
   "metadata": {},
   "outputs": [
    {
     "data": {
      "text/plain": [
       "(tensor([3.5000]), 3.5, 3.5, 3)"
      ]
     },
     "execution_count": 28,
     "metadata": {},
     "output_type": "execute_result"
    }
   ],
   "source": [
    "a = torch.tensor([3.5])\n",
    "a, a.item(), float(a), int(a)"
   ]
  },
  {
   "cell_type": "markdown",
   "id": "565ef122",
   "metadata": {},
   "source": [
    "### 練習問題6\n",
    "\n",
    "以下の要件を満たすコードを書いてください。\n",
    "\n",
    "1. `torch.tensor([[1, 2, 3], [4, 5, 6]])`というテンソル`torch_tensor`を作成してください。\n",
    "\n",
    "2. このテンソルをNumPy配列`numpy_array`に変換してください。\n",
    "\n",
    "3. `numpy_array`の最初の要素（インデックス[0, 0]）を100に変更してください。\n",
    "\n",
    "4. 元の`torch_tensor`の値を出力してください。値は変わっていますか？\n",
    "\n",
    "5. `torch.tensor([[7.5]])`という単一要素のテンソル`single`を作成し、Pythonスカラーに変換してください（2つの方法で）。\n",
    "\n",
    "**ヒント：**\n",
    "- `.numpy()`メソッドを使用します\n",
    "- `.item()`メソッドまたは`float()`/`int()`を使用します\n",
    "\n",
    "**期待される動作：**\n",
    "- `numpy_array`を変更すると`torch_tensor`も変わる（メモリを共有しているため）\n",
    "- スカラー変換の結果は通常のPython数値型"
   ]
  },
  {
   "cell_type": "code",
   "execution_count": null,
   "id": "595c489f",
   "metadata": {},
   "outputs": [],
   "source": []
  },
  {
   "cell_type": "markdown",
   "id": "3e2ed030",
   "metadata": {},
   "source": [
    "深層学習でデータを保存・操作する主なインターフェースはテンソル(n次元配列)です。基本的な数学演算、ブロードキャスト、インデックス、スライス、メモリ節約、他のPythonオブジェクトへの変換など、様々な機能を提供します。"
   ]
  }
 ],
 "metadata": {
  "kernelspec": {
   "display_name": "dl_env",
   "language": "python",
   "name": "python3"
  },
  "language_info": {
   "codemirror_mode": {
    "name": "ipython",
    "version": 3
   },
   "file_extension": ".py",
   "mimetype": "text/x-python",
   "name": "python",
   "nbconvert_exporter": "python",
   "pygments_lexer": "ipython3",
   "version": "3.10.15"
  }
 },
 "nbformat": 4,
 "nbformat_minor": 5
}
